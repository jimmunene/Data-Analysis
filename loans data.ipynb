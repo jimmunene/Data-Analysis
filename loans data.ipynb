{
 "cells": [
  {
   "cell_type": "markdown",
   "id": "d48630eb",
   "metadata": {},
   "source": [
    "###  JIM BRIAN"
   ]
  },
  {
   "cell_type": "code",
   "execution_count": 2,
   "id": "5d48697b",
   "metadata": {},
   "outputs": [],
   "source": [
    "#import relevant libraries\n",
    "import pandas as pd\n",
    "import matplotlib.pyplot as plt\n",
    "import numpy as np"
   ]
  },
  {
   "cell_type": "code",
   "execution_count": 4,
   "id": "bd3cea05",
   "metadata": {},
   "outputs": [],
   "source": [
    "loans =pd.read_csv(\"Cost_of_Loans.csv\")"
   ]
  },
  {
   "cell_type": "code",
   "execution_count": 2,
   "id": "36bb1b5d",
   "metadata": {},
   "outputs": [
    {
     "ename": "NameError",
     "evalue": "name 'loans' is not defined",
     "output_type": "error",
     "traceback": [
      "\u001b[0;31m---------------------------------------------------------------------------\u001b[0m",
      "\u001b[0;31mNameError\u001b[0m                                 Traceback (most recent call last)",
      "\u001b[0;32m<ipython-input-2-d5d63c6fa81a>\u001b[0m in \u001b[0;36m<module>\u001b[0;34m\u001b[0m\n\u001b[0;32m----> 1\u001b[0;31m \u001b[0mloans\u001b[0m\u001b[0;34m.\u001b[0m\u001b[0mhead\u001b[0m\u001b[0;34m\u001b[0m\u001b[0;34m\u001b[0m\u001b[0m\n\u001b[0m",
      "\u001b[0;31mNameError\u001b[0m: name 'loans' is not defined"
     ]
    }
   ],
   "source": [
    "loans.head\n"
   ]
  },
  {
   "cell_type": "code",
   "execution_count": 3,
   "id": "aeb39013",
   "metadata": {},
   "outputs": [
    {
     "ename": "NameError",
     "evalue": "name 'loans' is not defined",
     "output_type": "error",
     "traceback": [
      "\u001b[0;31m---------------------------------------------------------------------------\u001b[0m",
      "\u001b[0;31mNameError\u001b[0m                                 Traceback (most recent call last)",
      "\u001b[0;32m<ipython-input-3-b6b3c4f8f67e>\u001b[0m in \u001b[0;36m<module>\u001b[0;34m\u001b[0m\n\u001b[0;32m----> 1\u001b[0;31m \u001b[0mloans\u001b[0m\u001b[0;34m.\u001b[0m\u001b[0mtail\u001b[0m\u001b[0;34m(\u001b[0m\u001b[0;36m5\u001b[0m\u001b[0;34m)\u001b[0m\u001b[0;34m\u001b[0m\u001b[0;34m\u001b[0m\u001b[0m\n\u001b[0m",
      "\u001b[0;31mNameError\u001b[0m: name 'loans' is not defined"
     ]
    }
   ],
   "source": [
    "loans.tail(5)\n"
   ]
  },
  {
   "cell_type": "code",
   "execution_count": 9,
   "id": "61d3ba86",
   "metadata": {},
   "outputs": [
    {
     "data": {
      "text/plain": [
       "(87, 2)"
      ]
     },
     "execution_count": 9,
     "metadata": {},
     "output_type": "execute_result"
    }
   ],
   "source": [
    "loans.shape\n"
   ]
  },
  {
   "cell_type": "code",
   "execution_count": 10,
   "id": "a019c4cf",
   "metadata": {},
   "outputs": [
    {
     "data": {
      "text/plain": [
       "Loan    object\n",
       "Date    object\n",
       "dtype: object"
      ]
     },
     "execution_count": 10,
     "metadata": {},
     "output_type": "execute_result"
    }
   ],
   "source": [
    "loans.dtypes\n"
   ]
  },
  {
   "cell_type": "code",
   "execution_count": 19,
   "id": "4147fe9b",
   "metadata": {},
   "outputs": [],
   "source": [
    "loans['Loan'] = loans['Loan'].str.replace(',','')"
   ]
  },
  {
   "cell_type": "code",
   "execution_count": 20,
   "id": "f65f9d74",
   "metadata": {},
   "outputs": [
    {
     "data": {
      "text/plain": [
       "Loan    object\n",
       "Date    object\n",
       "dtype: object"
      ]
     },
     "execution_count": 20,
     "metadata": {},
     "output_type": "execute_result"
    }
   ],
   "source": [
    "loans.dtypes\n"
   ]
  },
  {
   "cell_type": "code",
   "execution_count": 22,
   "id": "a9ea3878",
   "metadata": {},
   "outputs": [
    {
     "data": {
      "text/plain": [
       "<bound method NDFrame.head of           Loan        Date\n",
       "0   2879837.15         NaN\n",
       "1   2891268.25         NaN\n",
       "2   2691268.25         NaN\n",
       "3   2741822.65  30/08/2019\n",
       "4    2760952.5   19/9/2019\n",
       "..         ...         ...\n",
       "82   387826.70  29/09/2021\n",
       "83   388525.85   4/10/2021\n",
       "84   288525.85   4/10/2021\n",
       "85   288733.30   6/10/2021\n",
       "86   188733.30   6/10/2021\n",
       "\n",
       "[87 rows x 2 columns]>"
      ]
     },
     "execution_count": 22,
     "metadata": {},
     "output_type": "execute_result"
    }
   ],
   "source": [
    "loans.head\n"
   ]
  },
  {
   "cell_type": "code",
   "execution_count": 23,
   "id": "b77911dd",
   "metadata": {},
   "outputs": [],
   "source": [
    "loans['Date'] =loans['Date'].apply(pd.to_datetime)"
   ]
  },
  {
   "cell_type": "code",
   "execution_count": 24,
   "id": "29637e4f",
   "metadata": {},
   "outputs": [],
   "source": [
    "loans['Loan'] =loans['Loan'].astype(float)"
   ]
  },
  {
   "cell_type": "code",
   "execution_count": 25,
   "id": "c2ebbc40",
   "metadata": {},
   "outputs": [
    {
     "data": {
      "text/plain": [
       "Loan           float64\n",
       "Date    datetime64[ns]\n",
       "dtype: object"
      ]
     },
     "execution_count": 25,
     "metadata": {},
     "output_type": "execute_result"
    }
   ],
   "source": [
    "loans.dtypes\n"
   ]
  },
  {
   "cell_type": "code",
   "execution_count": 26,
   "id": "0fc8c63d",
   "metadata": {},
   "outputs": [],
   "source": [
    "#we now convert the date collumn into an index collumn.because the loan collumn is depedent on the date collumn"
   ]
  },
  {
   "cell_type": "code",
   "execution_count": 28,
   "id": "c76a9f37",
   "metadata": {},
   "outputs": [],
   "source": [
    "loans.set_index( 'Date' ,inplace = True )"
   ]
  },
  {
   "cell_type": "code",
   "execution_count": 29,
   "id": "ae1d1da1",
   "metadata": {},
   "outputs": [
    {
     "data": {
      "text/plain": [
       "<bound method NDFrame.head of                   Loan\n",
       "Date                  \n",
       "NaT         2879837.15\n",
       "NaT         2891268.25\n",
       "NaT         2691268.25\n",
       "2019-08-30  2741822.65\n",
       "2019-09-19  2760952.50\n",
       "...                ...\n",
       "2021-09-29   387826.70\n",
       "2021-04-10   388525.85\n",
       "2021-04-10   288525.85\n",
       "2021-06-10   288733.30\n",
       "2021-06-10   188733.30\n",
       "\n",
       "[87 rows x 1 columns]>"
      ]
     },
     "execution_count": 29,
     "metadata": {},
     "output_type": "execute_result"
    }
   ],
   "source": [
    "loans.head\n"
   ]
  },
  {
   "cell_type": "code",
   "execution_count": 30,
   "id": "d2d7f34d",
   "metadata": {},
   "outputs": [],
   "source": [
    "#graph representation of the data\n",
    "#loan values and date"
   ]
  },
  {
   "cell_type": "code",
   "execution_count": 33,
   "id": "6218edac",
   "metadata": {},
   "outputs": [
    {
     "data": {
      "text/plain": [
       "<AxesSubplot:xlabel='Date'>"
      ]
     },
     "execution_count": 33,
     "metadata": {},
     "output_type": "execute_result"
    },
    {
     "data": {
      "image/png": "[encoded data removed]",
      "text/plain": [
       "<Figure size 720x576 with 1 Axes>"
      ]
     },
     "metadata": {
      "needs_background": "light"
     },
     "output_type": "display_data"
    }
   ],
   "source": [
    "plt.rcParams[ 'figure.figsize' ] = ( 10 , 8 ) # Increases the Plot Size\n",
    "loans[ 'Loan' ].plot(grid = True )"
   ]
  },
  {
   "cell_type": "code",
   "execution_count": 35,
   "id": "848ee2c8",
   "metadata": {},
   "outputs": [
    {
     "data": {
      "text/html": [
       "<div>\n",
       "<style scoped>\n",
       "    .dataframe tbody tr th:only-of-type {\n",
       "        vertical-align: middle;\n",
       "    }\n",
       "\n",
       "    .dataframe tbody tr th {\n",
       "        vertical-align: top;\n",
       "    }\n",
       "\n",
       "    .dataframe thead th {\n",
       "        text-align: right;\n",
       "    }\n",
       "</style>\n",
       "<table border=\"1\" class=\"dataframe\">\n",
       "  <thead>\n",
       "    <tr style=\"text-align: right;\">\n",
       "      <th></th>\n",
       "      <th>Loan</th>\n",
       "    </tr>\n",
       "    <tr>\n",
       "      <th>Date</th>\n",
       "      <th></th>\n",
       "    </tr>\n",
       "  </thead>\n",
       "  <tbody>\n",
       "    <tr>\n",
       "      <th>2019-12-31</th>\n",
       "      <td>2.624097e+06</td>\n",
       "    </tr>\n",
       "    <tr>\n",
       "      <th>2020-12-31</th>\n",
       "      <td>1.770754e+06</td>\n",
       "    </tr>\n",
       "    <tr>\n",
       "      <th>2021-12-31</th>\n",
       "      <td>6.731905e+05</td>\n",
       "    </tr>\n",
       "  </tbody>\n",
       "</table>\n",
       "</div>"
      ],
      "text/plain": [
       "                    Loan\n",
       "Date                    \n",
       "2019-12-31  2.624097e+06\n",
       "2020-12-31  1.770754e+06\n",
       "2021-12-31  6.731905e+05"
      ]
     },
     "execution_count": 35,
     "metadata": {},
     "output_type": "execute_result"
    }
   ],
   "source": [
    "loans.resample(rule = 'A' ).mean()"
   ]
  },
  {
   "cell_type": "code",
   "execution_count": 36,
   "id": "b840f848",
   "metadata": {},
   "outputs": [],
   "source": [
    "#yearly maximum loan price\n"
   ]
  },
  {
   "cell_type": "code",
   "execution_count": 40,
   "id": "40c367ef",
   "metadata": {},
   "outputs": [
    {
     "data": {
      "text/plain": [
       "Text(0.5, 1.0, 'Yearly Maximum Loan Price')"
      ]
     },
     "execution_count": 40,
     "metadata": {},
     "output_type": "execute_result"
    },
    {
     "data": {
      "image/png": "[encoded data removed]",
      "text/plain": [
       "<Figure size 576x432 with 1 Axes>"
      ]
     },
     "metadata": {
      "needs_background": "light"
     },
     "output_type": "display_data"
    }
   ],
   "source": [
    "plt.rcParams[ 'figure.figsize' ] = ( 8 , 6 ) # change plot size\n",
    "loans[ 'Loan' ].resample( 'A' ). max ().plot(kind = 'line' )\n",
    "plt.title( 'Yearly Maximum Loan Price' )"
   ]
  },
  {
   "cell_type": "code",
   "execution_count": 42,
   "id": "edb81405",
   "metadata": {},
   "outputs": [
    {
     "data": {
      "text/plain": [
       "Text(0.5, 1.0, 'Yearly Maximum Loan Price')"
      ]
     },
     "execution_count": 42,
     "metadata": {},
     "output_type": "execute_result"
    },
    {
     "data": {
      "image/png": "[encoded data removed]",
      "text/plain": [
       "<Figure size 576x432 with 1 Axes>"
      ]
     },
     "metadata": {
      "needs_background": "light"
     },
     "output_type": "display_data"
    }
   ],
   "source": [
    "plt.rcParams[ 'figure.figsize' ] = ( 8 , 6 ) # change plot size\n",
    "loans[ 'Loan' ].resample( 'Q' ). max ().plot(kind = 'bar' )\n",
    "plt.title( 'Yearly Maximum Loan Price' )"
   ]
  },
  {
   "cell_type": "code",
   "execution_count": 43,
   "id": "f97d8b01",
   "metadata": {},
   "outputs": [],
   "source": [
    "#null value check\n"
   ]
  },
  {
   "cell_type": "code",
   "execution_count": 44,
   "id": "f285f022",
   "metadata": {},
   "outputs": [
    {
     "data": {
      "text/plain": [
       "Loan    0\n",
       "dtype: int64"
      ]
     },
     "execution_count": 44,
     "metadata": {},
     "output_type": "execute_result"
    }
   ],
   "source": [
    "loans.isnull().sum()"
   ]
  },
  {
   "cell_type": "code",
   "execution_count": 45,
   "id": "f1e9969c",
   "metadata": {},
   "outputs": [],
   "source": [
    "#converting a date back to a collumn"
   ]
  },
  {
   "cell_type": "code",
   "execution_count": 46,
   "id": "32b603fc",
   "metadata": {},
   "outputs": [],
   "source": [
    "loans.reset_index(inplace=True)"
   ]
  },
  {
   "cell_type": "code",
   "execution_count": 47,
   "id": "c62fb75e",
   "metadata": {},
   "outputs": [
    {
     "data": {
      "text/plain": [
       "<bound method NDFrame.head of          Date        Loan\n",
       "0         NaT  2879837.15\n",
       "1         NaT  2891268.25\n",
       "2         NaT  2691268.25\n",
       "3  2019-08-30  2741822.65\n",
       "4  2019-09-19  2760952.50\n",
       "..        ...         ...\n",
       "82 2021-09-29   387826.70\n",
       "83 2021-04-10   388525.85\n",
       "84 2021-04-10   288525.85\n",
       "85 2021-06-10   288733.30\n",
       "86 2021-06-10   188733.30\n",
       "\n",
       "[87 rows x 2 columns]>"
      ]
     },
     "execution_count": 47,
     "metadata": {},
     "output_type": "execute_result"
    }
   ],
   "source": [
    "loans.head\n"
   ]
  },
  {
   "cell_type": "code",
   "execution_count": 48,
   "id": "fa76e377",
   "metadata": {},
   "outputs": [],
   "source": [
    "# null values"
   ]
  },
  {
   "cell_type": "code",
   "execution_count": 49,
   "id": "6a9e11df",
   "metadata": {},
   "outputs": [
    {
     "data": {
      "text/plain": [
       "Date    3\n",
       "Loan    0\n",
       "dtype: int64"
      ]
     },
     "execution_count": 49,
     "metadata": {},
     "output_type": "execute_result"
    }
   ],
   "source": [
    "loans.isnull().sum()"
   ]
  },
  {
   "cell_type": "code",
   "execution_count": 51,
   "id": "15dfb7bf",
   "metadata": {},
   "outputs": [
    {
     "data": {
      "text/html": [
       "<div>\n",
       "<style scoped>\n",
       "    .dataframe tbody tr th:only-of-type {\n",
       "        vertical-align: middle;\n",
       "    }\n",
       "\n",
       "    .dataframe tbody tr th {\n",
       "        vertical-align: top;\n",
       "    }\n",
       "\n",
       "    .dataframe thead th {\n",
       "        text-align: right;\n",
       "    }\n",
       "</style>\n",
       "<table border=\"1\" class=\"dataframe\">\n",
       "  <thead>\n",
       "    <tr style=\"text-align: right;\">\n",
       "      <th></th>\n",
       "      <th>Date</th>\n",
       "      <th>Loan</th>\n",
       "    </tr>\n",
       "  </thead>\n",
       "  <tbody>\n",
       "    <tr>\n",
       "      <th>0</th>\n",
       "      <td>NaT</td>\n",
       "      <td>2879837.15</td>\n",
       "    </tr>\n",
       "    <tr>\n",
       "      <th>1</th>\n",
       "      <td>NaT</td>\n",
       "      <td>2891268.25</td>\n",
       "    </tr>\n",
       "    <tr>\n",
       "      <th>2</th>\n",
       "      <td>NaT</td>\n",
       "      <td>2691268.25</td>\n",
       "    </tr>\n",
       "  </tbody>\n",
       "</table>\n",
       "</div>"
      ],
      "text/plain": [
       "  Date        Loan\n",
       "0  NaT  2879837.15\n",
       "1  NaT  2891268.25\n",
       "2  NaT  2691268.25"
      ]
     },
     "execution_count": 51,
     "metadata": {},
     "output_type": "execute_result"
    }
   ],
   "source": [
    "loans[loans['Date'].isnull()]"
   ]
  },
  {
   "cell_type": "code",
   "execution_count": 52,
   "id": "4f243cce",
   "metadata": {},
   "outputs": [],
   "source": [
    "#we use the drop function and specify "
   ]
  },
  {
   "cell_type": "code",
   "execution_count": 54,
   "id": "4685ea75",
   "metadata": {},
   "outputs": [],
   "source": [
    "loans.drop(loans.index[[0,1,2]], inplace=True)"
   ]
  },
  {
   "cell_type": "code",
   "execution_count": 55,
   "id": "255b2c70",
   "metadata": {},
   "outputs": [
    {
     "data": {
      "text/plain": [
       "<bound method NDFrame.head of          Date        Loan\n",
       "3  2019-08-30  2741822.65\n",
       "4  2019-09-19  2760952.50\n",
       "5  2019-09-20  2691884.55\n",
       "6  2019-01-10  2702387.20\n",
       "7  2019-01-10  2602387.20\n",
       "..        ...         ...\n",
       "82 2021-09-29   387826.70\n",
       "83 2021-04-10   388525.85\n",
       "84 2021-04-10   288525.85\n",
       "85 2021-06-10   288733.30\n",
       "86 2021-06-10   188733.30\n",
       "\n",
       "[84 rows x 2 columns]>"
      ]
     },
     "execution_count": 55,
     "metadata": {},
     "output_type": "execute_result"
    }
   ],
   "source": [
    "loans.head\n"
   ]
  },
  {
   "cell_type": "code",
   "execution_count": null,
   "id": "5aba1cbf",
   "metadata": {},
   "outputs": [],
   "source": []
  }
 ],
 "metadata": {
  "kernelspec": {
   "display_name": "Python 3",
   "language": "python",
   "name": "python3"
  },
  "language_info": {
   "codemirror_mode": {
    "name": "ipython",
    "version": 3
   },
   "file_extension": ".py",
   "mimetype": "text/x-python",
   "name": "python",
   "nbconvert_exporter": "python",
   "pygments_lexer": "ipython3",
   "version": "3.8.8"
  }
 },
 "nbformat": 4,
 "nbformat_minor": 5
}
